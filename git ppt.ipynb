{
 "cells": [
  {
   "cell_type": "markdown",
   "id": "5506b8f8",
   "metadata": {},
   "source": [
    " ### GIT AND GITHUB IN A NUTSHELL\n",
    "\n",
    "1. What is version control?\n",
    "   - This is a tool used by programmers to manage changes to various projects, documents, websites, web applications, etc. \n",
    "   - Helps programmers collaborate synchronously and asynchronously \n",
    "2. What is Git?\n",
    "   - Free and globally accessible version control system\n",
    "   - Tracks changes in code as time goes on\n",
    "\n",
    "   **Git commands**\n",
    "   - *clone*: bring a repository hosted somewhere (like in Github) into a folder on your device\n",
    "   - *add*: track your files and changes in Git\n",
    "   - *commit*: save your files in Git\n",
    "   - *push*: upload Git commits to a remote repo, like Github\n",
    "   - *pull*: download changes from repository somewhere to local device \n",
    "\n",
    "    \n",
    "\n",
    "3. What is GitHub\n",
    "   - Online repository; it's Git, but online\n",
    "\n",
    "   **How to import from GitHub to local device**\n",
    "   - Set up a repository on GitHub\n",
    "   - Make a sample markdown file (w/ extension *.md* or any other valid extension)\n",
    "   - Commit changes\n",
    "   - Use the *git clone* command on terminal\n",
    "\n",
    "   <img src=\"clone.png\" alt=\"From Local To GitHub\" width=\"700\" height=\"200\">\n",
    "   \n",
    "   **How to upload files to GitHub**\n",
    "\n",
    "\n",
    "   <img src=\"sample.png\" alt=\"From Local To GitHub\" width=\"600\" height=\"400\">\n",
    "\n",
    "   - Change directory via the *cd* command\n",
    "   - After making the desired changes, type the following commands IN ORDER:\n",
    "      - git status (to check which changes are recognized for saving)\n",
    "      - git add \n",
    "      - git commit -m \"*message here*\"\n",
    "      - git push/ git push -u origin *(branch here)* ---> used to automatically send to GitHub from a local device without the need to specify the target location \n",
    "   \n",
    "   **How to create repository then upload on GitHub**\n",
    "\n",
    "   **Some errors encountered**\n",
    "   - Can't add private key to SSH agent; switched to using HTTPS instead\n",
    "   - Uploaded *.ipynb* files don't seem to load on GitHub (i.e. Pandas visualization did not work)\n",
    "4. How Git helps collaborate and track code.\n",
    "   - Multiple users can contribute to a remote repository by downloading and adding changes to it when using Git commands such as push and pull\n"
   ]
  }
 ],
 "metadata": {
  "kernelspec": {
   "display_name": "myenv",
   "language": "python",
   "name": "python3"
  },
  "language_info": {
   "name": "python",
   "version": "3.13.5"
  }
 },
 "nbformat": 4,
 "nbformat_minor": 5
}
